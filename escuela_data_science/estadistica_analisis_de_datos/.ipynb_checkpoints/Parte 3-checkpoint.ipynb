{
 "cells": [
  {
   "cell_type": "markdown",
   "metadata": {},
   "source": [
    "# Pruebas de hipótesis\n",
    "\n",
    "Una prueba de hipotesis es una regla que especifica si se puede aceptar o rechazar una afirmación acerca de un parametro poblacional (lambda, sigma, mu, etc) dependiendo de la evidencia proporcionada por una muestra de datos (x1,x,2,x3,...,xn)\n",
    "\n",
    "### Pasos y elementos de una prueba de hipotesis\n",
    "\n",
    "1. Paramentro a probar\n",
    "2. a. Hipotesis Nula (siempre de igualdad =)\n",
    "   b. Hipotesis Alterna (mayor que, menor que o diferente que)\n",
    "3. Identificar el estimador (Promedio muestral o varianza muestral)\n",
    "4. Identificar el estadistico y su distribucion (normal, t-student, chi-cuadrada, F-fisher, etc)\n",
    "5. Valor del estadistico | H0\n",
    "6. Tolerancia al error alfa, valor critico y criterio de rechazo H0\n",
    "7. Conclusion de rechazo o no rechazo de H0 con un margen de error de alfa\n",
    "\n",
    "## Caso de ejemplo\n",
    "\n",
    "> La empresa Mustage S.A. está desarrollando una plataforma para otorgar credito de bajo monto\n",
    "> El tiempo para completar exitosamente una consulta de informacion de clientes ante las fuentes de buro no debe ser superior a 30 segudos en promedio\n",
    "> Muestra de n=50 clientes consultados\n",
    "> La empresa esta dispuesta a asumir un error del 5%\n",
    "\n",
    "¿El proveedor de información satisface estadísticamente este requerimiento?"
   ]
  },
  {
   "cell_type": "code",
   "execution_count": 7,
   "metadata": {},
   "outputs": [],
   "source": [
    "import pandas as pd\n",
    "import numpy as np\n",
    "%matplotlib inline\n",
    "import seaborn as sns\n",
    "from scipy.stats import expon\n",
    "from scipy.stats import uniform\n",
    "from scipy.stats import norm"
   ]
  },
  {
   "cell_type": "code",
   "execution_count": 2,
   "metadata": {},
   "outputs": [],
   "source": [
    "muestra = [42, 35, 29, 45, 41, 57, 54, 47, 48, 56, 47, 35, 52, 31, 52, 55, 57, 58, 26, 29, 32, 37, 32, 34, 48, 20, 48, 51, 27, 24, 39, 40, 31, 34, 23, 24, 41, 58, 44, 48, 31, 23, 27, 55, 43, 47, 30, 57, 38, 51]"
   ]
  },
  {
   "cell_type": "code",
   "execution_count": 3,
   "metadata": {},
   "outputs": [
    {
     "data": {
      "text/plain": [
       "50"
      ]
     },
     "execution_count": 3,
     "metadata": {},
     "output_type": "execute_result"
    }
   ],
   "source": [
    "len(muestra)"
   ]
  },
  {
   "cell_type": "code",
   "execution_count": 4,
   "metadata": {},
   "outputs": [],
   "source": [
    "# Hipotesis\n",
    "\n",
    "media, var, skew, kurt = expon.stats(scale = 30, moments = 'mvsk')"
   ]
  },
  {
   "cell_type": "code",
   "execution_count": 5,
   "metadata": {},
   "outputs": [
    {
     "data": {
      "text/plain": [
       "40.66"
      ]
     },
     "execution_count": 5,
     "metadata": {},
     "output_type": "execute_result"
    }
   ],
   "source": [
    "# Paso 1: Parametro lambda\n",
    "# Paso 2: Hipoteis\n",
    "\n",
    "mu = 30\n",
    "mu > 30\n",
    "\n",
    "# Paso 3. Mejor estimador\n",
    "# Estimador\n",
    "# Paso 4. Distribucion\n",
    "\n",
    "promedio = np.mean(muestra)\n",
    "promedio"
   ]
  },
  {
   "cell_type": "code",
   "execution_count": 6,
   "metadata": {},
   "outputs": [
    {
     "data": {
      "text/plain": [
       "2.5125860958161983"
      ]
     },
     "execution_count": 6,
     "metadata": {},
     "output_type": "execute_result"
    }
   ],
   "source": [
    "# Paso 5\n",
    "z = (promedio - mu)/np.sqrt(var/50)\n",
    "z"
   ]
  },
  {
   "cell_type": "code",
   "execution_count": 10,
   "metadata": {},
   "outputs": [],
   "source": [
    "# Paso 6\n",
    "\n",
    "alpha = 0.05\n",
    "\n",
    "# criterios de rechazo\n",
    "data_norm = norm.rvs(size = 1000000)"
   ]
  },
  {
   "cell_type": "code",
   "execution_count": 13,
   "metadata": {},
   "outputs": [
    {
     "data": {
      "text/plain": [
       "Text(0.5, 1.0, 'Distribucion normal')"
      ]
     },
     "execution_count": 13,
     "metadata": {},
     "output_type": "execute_result"
    },
    {
     "data": {
      "image/png": "[encoded data removed]",
      "text/plain": [
       "<Figure size 432x288 with 1 Axes>"
      ]
     },
     "metadata": {
      "needs_background": "light"
     },
     "output_type": "display_data"
    }
   ],
   "source": [
    "ax = sns.distplot(data_norm, bins = 500, kde = False, color = 'blue')\n",
    "ax.set_title('Distribucion normal')"
   ]
  },
  {
   "cell_type": "code",
   "execution_count": 15,
   "metadata": {},
   "outputs": [
    {
     "data": {
      "text/plain": [
       "1.6448536269514722"
      ]
     },
     "execution_count": 15,
     "metadata": {},
     "output_type": "execute_result"
    }
   ],
   "source": [
    "valor_critico = norm.ppf(1-alpha, loc = 0, scale = 1)\n",
    "valor_critico"
   ]
  },
  {
   "cell_type": "code",
   "execution_count": 18,
   "metadata": {},
   "outputs": [
    {
     "data": {
      "text/plain": [
       "<matplotlib.legend.Legend at 0x1c601b37588>"
      ]
     },
     "execution_count": 18,
     "metadata": {},
     "output_type": "execute_result"
    },
    {
     "data": {
      "image/png": "[encoded data removed]",
      "text/plain": [
       "<Figure size 432x288 with 1 Axes>"
      ]
     },
     "metadata": {
      "needs_background": "light"
     },
     "output_type": "display_data"
    }
   ],
   "source": [
    "ax = sns.distplot(data_norm, bins = 500, kde = False, color = 'blue')\n",
    "ax.set_title('Distribucion normal')\n",
    "ax.axvline(x = valor_critico, linestyle = '--', label = 'Valor critico')\n",
    "ax.axvline(x = z, linestyle = '--', label = 'Valor estadistico', color = 'k')\n",
    "ax.legend()"
   ]
  },
  {
   "cell_type": "markdown",
   "metadata": {},
   "source": [
    "## Errores Estadisticos Tipo 1 y Tipo 2"
   ]
  },
  {
   "cell_type": "code",
   "execution_count": 21,
   "metadata": {},
   "outputs": [],
   "source": [
    "# \n",
    "\n",
    "mu1 = 37\n",
    "mu2 = 42\n",
    "\n",
    "promedio = np.mean(muestra)\n",
    "desv = 2\n",
    "\n",
    "z_1 = (promedio - mu1)/desv\n",
    "z_2 = (promedio - mu2)/desv"
   ]
  },
  {
   "cell_type": "code",
   "execution_count": 22,
   "metadata": {},
   "outputs": [],
   "source": [
    "data1 = norm.rvs(loc = mu1, scale = desv, size = 1000000)\n",
    "data2 = norm.rvs(loc = mu2, scale = desv, size = 1000000)"
   ]
  },
  {
   "cell_type": "code",
   "execution_count": 24,
   "metadata": {},
   "outputs": [
    {
     "data": {
      "text/plain": [
       "<matplotlib.legend.Legend at 0x1c603d19148>"
      ]
     },
     "execution_count": 24,
     "metadata": {},
     "output_type": "execute_result"
    },
    {
     "data": {
      "image/png": "[encoded data removed]",
      "text/plain": [
       "<Figure size 432x288 with 1 Axes>"
      ]
     },
     "metadata": {
      "needs_background": "light"
     },
     "output_type": "display_data"
    }
   ],
   "source": [
    "ax = sns.distplot(data1, bins = 500, kde = True, color = 'blue')\n",
    "ax = sns.distplot(data2, bins = 500, kde = True, color = 'green')\n",
    "ax.axvline(x = promedio, c = 'k', linestyle = '--', label = 'promedio muestral')\n",
    "ax.legend()"
   ]
  },
  {
   "cell_type": "code",
   "execution_count": 25,
   "metadata": {},
   "outputs": [
    {
     "data": {
      "text/plain": [
       "0.03362496941962845"
      ]
     },
     "execution_count": 25,
     "metadata": {},
     "output_type": "execute_result"
    }
   ],
   "source": [
    "# Error tipo 1 : p rechazar H0 cuando esta es verdadera\n",
    "\n",
    "p_prom_mu1 = norm.cdf(z_1)\n",
    "1 - p_prom_mu1"
   ]
  },
  {
   "cell_type": "code",
   "execution_count": 26,
   "metadata": {},
   "outputs": [
    {
     "data": {
      "text/plain": [
       "0.2514288950953095"
      ]
     },
     "execution_count": 26,
     "metadata": {},
     "output_type": "execute_result"
    }
   ],
   "source": [
    "# Error tipo 2 :  p de no rechazar H0 cuando esta es falsa\n",
    "\n",
    "p_prom_mu2 = norm.cdf(z_2)\n",
    "p_prom_mu2"
   ]
  },
  {
   "cell_type": "markdown",
   "metadata": {},
   "source": [
    "## Intervalos de Confianza\n",
    "Es un rango de valores, derivado del estadistico de la muestra, que concierto grado de confianza incluye el valor de un parametro poblacional desconocido\n",
    "\n",
    "1. Parametrod a probar\n",
    "2. Identificar el estimador\n",
    "3. identificar el Estadistico\n",
    "4. Tolerancia al error alfa, estimacion puntual y rango de error\n",
    "5. Conclusion del intervalo\n",
    "6. opcional: pruebas de hipotesis usando intervalo de confianza"
   ]
  },
  {
   "cell_type": "code",
   "execution_count": 27,
   "metadata": {},
   "outputs": [],
   "source": [
    "Muestra = [4046, 2578, 3796, 3412, 3315, 3228, 3666, 3877, 3154, 4062, 4365, 3776, 3761, 2587, 2911, 3184, 3810, 4459, 3385, 3899, 3602, 2701, 2821, 2790, 2557, 2540, 4119, 2712, 2743, 2713, 4466, 3937, 3871, 4427, 3177, 2556, 2903, 3522, 4155, 4010, 4453, 3080, 3008, 3865, 3356, 2799, 3308, 2759, 4347, 2576, 4075, 3333, 2936, 3746, 3334, 3940, 4113, 4220, 3580, 3922]"
   ]
  },
  {
   "cell_type": "code",
   "execution_count": 30,
   "metadata": {},
   "outputs": [],
   "source": [
    "alpha = 0.05"
   ]
  },
  {
   "cell_type": "code",
   "execution_count": 38,
   "metadata": {},
   "outputs": [
    {
     "data": {
      "text/plain": [
       "(-1.9599639845400545, 1.959963984540054)"
      ]
     },
     "execution_count": 38,
     "metadata": {},
     "output_type": "execute_result"
    }
   ],
   "source": [
    "lim_inf = norm.ppf(alpha/2)\n",
    "lim_sup = norm.ppf(1-(alpha/2))\n",
    "lim_inf, lim_sup"
   ]
  },
  {
   "cell_type": "code",
   "execution_count": 39,
   "metadata": {},
   "outputs": [
    {
     "data": {
      "text/plain": [
       "60"
      ]
     },
     "execution_count": 39,
     "metadata": {},
     "output_type": "execute_result"
    }
   ],
   "source": [
    "promedio = np.mean(Muestra)\n",
    "desviacion = np.std(Muestra)\n",
    "len(Muestra)"
   ]
  },
  {
   "cell_type": "code",
   "execution_count": 40,
   "metadata": {},
   "outputs": [
    {
     "data": {
      "text/plain": [
       "(2306.73126667925, 4638.035399987416)"
      ]
     },
     "execution_count": 40,
     "metadata": {},
     "output_type": "execute_result"
    }
   ],
   "source": [
    "lim_inf = lim_inf*desviacion + promedio\n",
    "lim_sup = lim_sup*desviacion + promedio\n",
    "lim_inf, lim_sup"
   ]
  },
  {
   "cell_type": "markdown",
   "metadata": {},
   "source": [
    "# Regresión Lineal"
   ]
  },
  {
   "cell_type": "markdown",
   "metadata": {},
   "source": [
    "La regresión lineal es un modelo, algoritmo o función matemática que aproxima de forma óptima la relación entre una variable Y y una variable X o un set de variables (X1, X2,..., Xk) utilizando la funcion de la recta."
   ]
  },
  {
   "cell_type": "markdown",
   "metadata": {},
   "source": [
    "> Funcion de la Recta: Y = aX + b, a : Pendiente, b : Corte con el eje de las ordenadas\n",
    ">\n",
    "> Funcion de Regresión: Y = aX + b + error, X y Y v.a.\n",
    "> a y b son los parámetros poblacionales de la funcion que relaciona a Y y X\n",
    "> El objetivo de un análisis de regresión es encontrar los mejores estimadores de a y b con el mínimo error"
   ]
  },
  {
   "cell_type": "code",
   "execution_count": null,
   "metadata": {},
   "outputs": [],
   "source": []
  }
 ],
 "metadata": {
  "kernelspec": {
   "display_name": "Python 3",
   "language": "python",
   "name": "python3"
  },
  "language_info": {
   "codemirror_mode": {
    "name": "ipython",
    "version": 3
   },
   "file_extension": ".py",
   "mimetype": "text/x-python",
   "name": "python",
   "nbconvert_exporter": "python",
   "pygments_lexer": "ipython3",
   "version": "3.7.7"
  }
 },
 "nbformat": 4,
 "nbformat_minor": 4
}
