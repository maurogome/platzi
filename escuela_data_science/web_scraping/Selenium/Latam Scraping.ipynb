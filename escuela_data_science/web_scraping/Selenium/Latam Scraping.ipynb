{
 "cells": [
  {
   "cell_type": "code",
   "execution_count": 1,
   "metadata": {},
   "outputs": [],
   "source": [
    "import requests\n",
    "from bs4 import BeautifulSoup\n",
    "from selenium import webdriver"
   ]
  },
  {
   "cell_type": "code",
   "execution_count": 2,
   "metadata": {},
   "outputs": [],
   "source": [
    "url = 'https://www.latam.com/es_co/apps/personas/booking?fecha1_dia=17&fecha1_anomes=2020-10&fecha2_dia=25&fecha2_anomes=2020-10&from_city2=MIA&to_city2=MDE&auAvailability=1&ida_vuelta=ida_vuelta&vuelos_origen=Medell%C3%ADn&from_city1=MDE&vuelos_destino=Miami&to_city1=MIA&flex=1&vuelos_fecha_salida_ddmmaaaa=17/10/2020&vuelos_fecha_regreso_ddmmaaaa=25/10/2020&cabina=Y&nadults=1&nchildren=0&ninfants=0&cod_promo=&stopover_outbound_days=0&stopover_inbound_days=0#/'"
   ]
  },
  {
   "cell_type": "code",
   "execution_count": 3,
   "metadata": {},
   "outputs": [],
   "source": [
    "r = requests.get(url)\n",
    "r.status_code\n",
    "s = BeautifulSoup(r.text, 'lxml')"
   ]
  },
  {
   "cell_type": "code",
   "execution_count": 4,
   "metadata": {},
   "outputs": [],
   "source": [
    "options = webdriver.ChromeOptions()\n",
    "options.add_argument('--incognito')\n",
    "driver = webdriver.Chrome(executable_path = 'chromedriver', options=options)"
   ]
  },
  {
   "cell_type": "code",
   "execution_count": 5,
   "metadata": {},
   "outputs": [],
   "source": [
    "driver.get(url)"
   ]
  },
  {
   "cell_type": "code",
   "execution_count": 6,
   "metadata": {},
   "outputs": [],
   "source": [
    "vuelos = driver.find_elements_by_xpath('//li[@class=\"flight\"]') # el // indica que busca en todo el arbol\n",
    "vuelo = vuelos[0]"
   ]
  },
  {
   "cell_type": "code",
   "execution_count": 7,
   "metadata": {},
   "outputs": [
    {
     "name": "stdout",
     "output_type": "stream",
     "text": [
      "17:30\n",
      "07:05\n",
      "PT12H35M\n"
     ]
    }
   ],
   "source": [
    "print(vuelo.find_element_by_xpath('.//div[@class=\"departure\"]/time').get_attribute('datetime')) # . indica que ussca de este vuelo para abajo / indicamos que es un hijo directo\n",
    "print(vuelo.find_element_by_xpath('.//div[@class=\"arrival\"]/time').get_attribute('datetime'))\n",
    "print(vuelo.find_element_by_xpath('.//span[@class=\"duration\"]/time').get_attribute('datetime'))"
   ]
  },
  {
   "cell_type": "code",
   "execution_count": 8,
   "metadata": {},
   "outputs": [],
   "source": [
    "boton_escalas = vuelo.find_element_by_xpath('.//div[@class=\"flight-summary-stops-description\"]/button')\n",
    "boton_escalas.click()"
   ]
  },
  {
   "cell_type": "code",
   "execution_count": 26,
   "metadata": {},
   "outputs": [],
   "source": [
    "segmentos = vuelo.find_elements_by_xpath('//div[@class=\"sc-cLQEGU hyoued\"]/div[@class=\"sc-esOvli iQSbOQ\"]')\n",
    "escalas = len(segmentos) - 1\n",
    "segmento = segmentos[0]"
   ]
  },
  {
   "cell_type": "code",
   "execution_count": 27,
   "metadata": {},
   "outputs": [
    {
     "name": "stdout",
     "output_type": "stream",
     "text": [
      "Jose María Córdova\n",
      "17:30\n"
     ]
    }
   ],
   "source": [
    "print(segmento.find_element_by_xpath('.//div[@class=\"sc-iujRgT jEtESl\"]//span[@class=\"sc-hXRMBi gVvErD\"]').text)\n",
    "print(segmento.find_element_by_xpath('.//div[@class=\"sc-iujRgT jEtESl\"]//time').get_attribute('datetime'))"
   ]
  },
  {
   "cell_type": "code",
   "execution_count": 59,
   "metadata": {
    "scrolled": true
   },
   "outputs": [
    {
     "name": "stdout",
     "output_type": "stream",
     "text": [
      "17:30\n",
      "MDE\n",
      "Salida a las 17 Horas 30 Minutos, de Jose María Córdova\n",
      "Jose María Córdova\n",
      "3h\n",
      "h\n",
      "5min\n",
      "min\n",
      "de duración\n",
      "20:35\n",
      "LIM\n",
      "Llegada a las 20 Horas 35 Minutos, a J Chávez Intl.\n",
      "J Chávez Intl.\n",
      "----------------------------------------------------------------------------\n",
      "00:15\n",
      "LIM\n",
      "Salida a las 00 Horas 15 Minutos, de J Chávez Intl.\n",
      "J Chávez Intl.\n",
      "5h\n",
      "h\n",
      "50min\n",
      "min\n",
      "de duración\n",
      "07:05\n",
      "MIA\n",
      "Llegada a las 07 Horas 05 Minutos, a Miami Intl.\n",
      "Miami Intl.\n",
      "----------------------------------------------------------------------------\n"
     ]
    }
   ],
   "source": [
    "for i, segmento in enumerate(segmentos):\n",
    "    #print(segmento.find_element_by_xpath('.//div[@class=]\"sc-iujRgT jEtESl\"]//span[@class=\"sc-hXRMBi gVvErD\"]'))\n",
    "    #print(segmentos[i].find_element_by_xpath('.//div[@class=\"sc-iujRgT jEtESl\"]//time').get_attribute('datetime'))\n",
    "    print(segmento.text, end = \"\\n----------------------------------------------------------------------------\\n\")"
   ]
  },
  {
   "cell_type": "code",
   "execution_count": 60,
   "metadata": {},
   "outputs": [],
   "source": [
    "driver.find_element_by_xpath('//div[@class=\"modal-content sc-iwsKbI eHVGAN\"]//button[@class=\"close\"]').click()"
   ]
  },
  {
   "cell_type": "code",
   "execution_count": 61,
   "metadata": {},
   "outputs": [],
   "source": [
    "vuelo.click()"
   ]
  },
  {
   "cell_type": "code",
   "execution_count": 62,
   "metadata": {},
   "outputs": [],
   "source": [
    "tarifas = vuelo.find_elements_by_xpath('.//div[@class=\"fares-table-container\"]//tfoot//td[contains(@class, \"fare-\")]')"
   ]
  },
  {
   "cell_type": "code",
   "execution_count": 63,
   "metadata": {},
   "outputs": [
    {
     "name": "stdout",
     "output_type": "stream",
     "text": [
      "$1.771.236\n",
      "$2.576.769\n"
     ]
    }
   ],
   "source": [
    "for tarifa in tarifas:\n",
    "    print(tarifa.text)"
   ]
  },
  {
   "cell_type": "code",
   "execution_count": null,
   "metadata": {},
   "outputs": [],
   "source": []
  },
  {
   "cell_type": "code",
   "execution_count": null,
   "metadata": {},
   "outputs": [],
   "source": [
    "driver.close()"
   ]
  },
  {
   "cell_type": "code",
   "execution_count": null,
   "metadata": {},
   "outputs": [],
   "source": []
  }
 ],
 "metadata": {
  "kernelspec": {
   "display_name": "Python 3",
   "language": "python",
   "name": "python3"
  },
  "language_info": {
   "codemirror_mode": {
    "name": "ipython",
    "version": 3
   },
   "file_extension": ".py",
   "mimetype": "text/x-python",
   "name": "python",
   "nbconvert_exporter": "python",
   "pygments_lexer": "ipython3",
   "version": "3.7.7"
  }
 },
 "nbformat": 4,
 "nbformat_minor": 4
}
