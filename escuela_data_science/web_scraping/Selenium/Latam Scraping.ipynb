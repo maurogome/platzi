{
 "cells": [
  {
   "cell_type": "code",
   "execution_count": 1,
   "metadata": {},
   "outputs": [],
   "source": [
    "import requests\n",
    "from bs4 import BeautifulSoup"
   ]
  },
  {
   "cell_type": "code",
   "execution_count": 2,
   "metadata": {},
   "outputs": [],
   "source": [
    "url = 'https://www.latam.com/es_co/apps/personas/booking?fecha1_dia=17&fecha1_anomes=2020-10&fecha2_dia=25&fecha2_anomes=2020-10&from_city2=MIA&to_city2=MDE&auAvailability=1&ida_vuelta=ida_vuelta&vuelos_origen=Medell%C3%ADn&from_city1=MDE&vuelos_destino=Miami&to_city1=MIA&flex=1&vuelos_fecha_salida_ddmmaaaa=17/10/2020&vuelos_fecha_regreso_ddmmaaaa=25/10/2020&cabina=Y&nadults=1&nchildren=0&ninfants=0&cod_promo=&stopover_outbound_days=0&stopover_inbound_days=0#/'"
   ]
  },
  {
   "cell_type": "code",
   "execution_count": 3,
   "metadata": {},
   "outputs": [],
   "source": [
    "r = requests.get(url)"
   ]
  },
  {
   "cell_type": "code",
   "execution_count": 4,
   "metadata": {},
   "outputs": [
    {
     "data": {
      "text/plain": [
       "200"
      ]
     },
     "execution_count": 4,
     "metadata": {},
     "output_type": "execute_result"
    }
   ],
   "source": [
    "r.status_code"
   ]
  },
  {
   "cell_type": "code",
   "execution_count": 5,
   "metadata": {},
   "outputs": [],
   "source": [
    "s = BeautifulSoup(r.text, 'lxml')"
   ]
  },
  {
   "cell_type": "code",
   "execution_count": 6,
   "metadata": {},
   "outputs": [
    {
     "data": {
      "text/plain": [
       "'<!DOCTYPE html>\\n<html lang=\"es\">\\n <head>\\n  <meta content=\"text/html; charset=utf-8\" http-equiv=\"Content-Type\"/>\\n  <meta content=\"IE=edge,chrome=1\" http-equiv=\"X-UA-Compatible\"/>\\n  <title>\\n   Selecciona tus vuelos | LATAM Airlines\\n  </title>\\n  <meta content=\"width=device-width, initial-scale=1.0\" name=\"viewport\"/>\\n  <link href=\"https://s.latamstatic.com/etc.clientlibs/latamApp/clientlibs/static/resources/favicon/favicon.ico\" rel=\"shortcut icon\" type=\"image/x-icon\"/>\\n  <meta content=\"personas_bs3_latam_mu\" name=\"layout\"/>\\n  <meta content=\"LATAM.com\" name=\"description\"/>\\n  <meta content=\"LATAM.com\" name=\"keywords\"/>\\n  <script src=\"https://www.pontosmultiplus.com.br/cestaautenticacao/app/multiplus-sdk.js\" type=\"text/javascript\">\\n  </script>\\n  <meta content=\"B027B6F9785684090D290B19543FD08C\" name=\"sessionId\" scheme=\"tracker\"/>\\n  <meta content=\"latam\" name=\"matchedScenario\" scheme=\"tracker\"/>\\n  <meta content=\"personas_bs3_latam_mu\" name=\"template\" scheme=\"tracker\"/>\\n  <meta content=\"null\" name=\"userDataCookieRawData\" scheme=\"tracker\"/>\\n  <meta content=\"3.0.60\" name=\"appVersion\" scheme=\"tracker\"/>\\n  <style>\\n   .async-hide{opacity:0!important}\\n  </style>\\n  <script>\\n   (function(a,s,y,n,c,h,i,d,e){s.className+=\\' \\'+y;h.start=1*new Date;h.end=i=function(){s.className=s.className.replace(RegExp(\\' ?\\'+y),\\'\\')};(a[n]=a[n]||[]).hide=h;setTimeout(function(){i();h.end=null},c);h.timeout=c;})(window,document.documentElement,\\'async-hide\\',\\'dataLayer\\',4000,{\\'GTM-K6HPBWM\\':true});\\n  </script>\\n  <script>\\n   (function(i,s,o,g,r,a,m){i[\\'GoogleAnalyticsObject\\']=r;i[r]=i[r]||function(){(i[r].q=i[r].q||[]).push(arguments)},i[r].l=1*new Date();a=s.createElement(o),m=s.getElementsByTagName(o)[0];a.async=1;a.src=g;m.parentNode.insertBefore(a,m)})(window,document,\\'script\\',\\'https://www.google-analytics.com/analytics.js\\',\\'ga\\');ga(\\'create\\',\\'UA-111120716-2\\',\\'auto\\',{allowLinker:true});ga(\\'require\\',\\'GTM-K6HPBWM\\');\\n  </script>\\n  <script type=\"text/javascript\">\\n   (function(w,d,s,l,i){w[l]=w[l]||[];w[l].push({\\'gtm.start\\':new Date().getTime(),event:\\'gtm.js\\'});var f=d.getElementsByTagName(s)[0],j=d.createElement(s),dl=l!=\\'dataLayer\\'?\\'&l=\\'+l:\\'\\';j.async=true;j.src=\\'//www.googletagmanager.com/gtm.js?id=\\'+i+dl;f.parentNode.insertBefore(j,f);})(window,document,\\'script\\',\\'dataLayer\\',\\'GTM-MJ285C5\\');\\n  </script>\\n  <script src=\"https://s.latamstatic.com/js/libs/external/modernizr/2.6.2/modernizr.custom.js\" type=\"text/javascript\">\\n  </script>\\n  <!--[if lt IE 9]>\\n\\t      <script src=\"/js/libs/external/compatibility/shiv/3.7.0/html5shiv.js\"></script>\\n  <![endif]-->\\n  <!--[if lt IE 9]>\\n\\t      <script src=\"/js/libs/external/respond/1.4.2/respond.min.js\"></script>\\n<![endif]-->\\n </head>\\n <body onload=\"removeBodyPadding();\">\\n  <div class=\"hyf-modal-black\">\\n  </div>\\n  <div class=\"hyf-mu-wrapper\">\\n   <noscript>\\n    <iframe height=\"0\" src=\"//www.googletagmanager.com/ns.html?id=GTM-MJ285C5\" style=\"display: none; visibility: hidden\" width=\"0\">\\n    </iframe>\\n   </noscript>\\n   <style id=\"styleHeaderLatam\">\\n    /* style fixes */\\nhtml {margin:0;padding:0;min-height:100%;position:relative}\\nbody {margin:0;padding:0;}\\na > [class^=\"icon-\"], a > [class*=\"icon-\"] {\\n    margin: 5px 22px 0 0;\\n}\\n.hyf-modal-black{display:none;opacity: 1;background-color: rgba(0,0,0,0.8);position: fixed;top: 0;left: 0;right: 0;bottom: 0;margin: 0;z-index: 99999999998;-webkit-transition: all 1s;-moz-transition: all 1s;transition: all 1s;}\\n.hyf-not-underline {text-decoration: none}\\n.hyf-icon-clear{float:none;margin:0}\\n/* style fixes */\\n\\n.hyf-mobile-view {height:100%;overflow:hidden}\\n.hyf_mu_wrapper,.hyf_mu_header,.hyf-mu-content,.hyf-mu-footer {padding:0;margin:0;}\\n.hyf_mu_wrapper {min-height:100%;position:relative;}\\n.hyf-mu-header {position:relative;}\\n@media(min-width: 768px){ .hyf-mu-header {position: fixed;top: 0;width: 100%;z-index: 100;} #appMain {margin-top: 36px;} }\\n.hyf-mu-header-container {height:36px;background-color:#1B0088;position:relative;font-family: \\'Latam-Sans-Regular\\'}\\n.hyf-mu-content {}\\n.hyf-mu-footer {background:#1B0088;width:100%;position:absolute;bottom:0;left:0;}\\n\\n.hyf-goleft {position:relative;float:left;}\\n.hyf-alleft {text-align: left}\\n.hyf-goright {position:relative;float:right;}\\n.hyf-alright {text-align: right}\\n.hyf-container{max-width:960px;margin:0 auto;position:relative;}\\n.hyf-goup {text-transform:uppercase;}\\n.hyf-col-25 {width:25%;float:left;}\\n.hyf-col-100 {width:100%;float:left;}\\n\\n/* Objetos */\\n.hyf-header-section{height:36px;font-size:1em;}\\n.hyf-header-section .hyf-header-element{vertical-align: middle;padding:8px 0px;text-decoration: none;color:#b8b8b8;margin: 0px 5px;border: none;top:6px;position: relative;}\\n.hyf-contry-ul li a:focus {outline:#1B0088 auto 2px;}\\n.hyf-header-section .hyf-header-element span {padding-top: 5px;margin:0;color:#ffffff}\\n.hyf-header-section .hyf-header-element.hyf-goup.hyf-pais-show:hover {background-color:#f3f3f3;color:#1B0088}\\n.hyf-header-section .hyf-header-element.hyf-goup.hyf-pais-hide {background-color:rgb(243,243,243);background-color:rgba(243,243,243,97);color:#1B0088;}\\n.hyf-header-section .hyf-header-element.hyf-goup.hyf-pais-hide:focus {border:none;}\\n.hyf-header-section .hyf-header-element.hyf-login {display:none;text-align: left;text-decoration:none;font-size:14px;font-family: \\'Latam-Sans-Regular\\', arial, sans-serif;border:0;color:#fff;padding:0 0 0 40px;}\\n.hyf-header-section .hyf-header-element.hyf-login span{color:#fff;text-decoration: none}\\n.hyf-header-section .hyf-header-element.hyf-login span:hover{text-decoration: none}\\n.hyf-header-section .hyf-header-element a.hyf-login:hover {background-color:#ed1650;text-decoration:none}\\n.hyf-login-info {position:absolute;margin-left:-40px;background-color:#fff;padding: 10px 25px 20px 25px;border-bottom-left-radius: 5px;width:100%;border-bottom-right-radius: 5px;border-top-left-radius: 0;border-top-right-radius: 0;border: 1px solid #bfbfbf;color:#666666;z-index:2;display:none}\\n.hyf-login-info a {display:block;margin:6px 0;color:#666666;text-decoration: none;font-family: \\'Latam-Sans-Bold\\'}\\n.hyf-login-info a:hover {text-decoration: underline}\\n.hyf-login-info a:last-child {text-align: right;margin-top: 15px;margin-bottom: 0px;border-top: 2px solid #b30f3b;padding-top: 10px;}\\n.hyf-login-link {color:white;text-decoration: none}\\n.hyf-login-text {max-width:223px;overflow:hidden;text-overflow:ellipsis;white-space: nowrap}\\n#hyf-icon-log-icon,#hyf-icon-log-iconi {margin: -5px -28px -13px -45px;color: #fff;}\\n#hyf-icon-log-caret {float:right;margin:10px 5px;color:#fff}\\n\\n.hyf-country-selector {position:absolute;overflow: hidden;border:1px solid #f3f3f3;\\n    border-radius: 0 0 1px 1px;padding:10px 15px;color:#666666;text-align: left;z-index: 99999999999;max-width:930px;box-sizing: border-box;\\n    -webkit-box-shadow: 0 1px 1.68px 1.32px rgba(0,2,0,0.5);\\n    -moz-box-shadow: 0 1px 1.68px 1.32px rgba(0,2,0,0.5);\\n    box-shadow: 0 1px 1.68px 1.32px rgba(0,2,0,0.5);\\n}\\n.hyf-country-selector ul {list-style:none;margin:0;padding:0}\\n.hyf-country-selector ul li{list-style:none;margin:0 0 10px 0;padding:0;font-size:1em;}\\n.hyf-country-selector .hyf-country-selector-title {font-size:1em;font-family:\\'Latam-Sans-Bold\\';margin-top:10px;margin-bottom: 11px}\\n.hyf-logo {padding:0;height:70px;line-height:80px;margin-top:20px;margin-bottom: 20px;position:relative;}\\n.hyf-logo a{position:relative;margin-right:42px}\\n.hyf-header-section .hyf-header-element.Header-actionLinkBurger {padding:0;width: 24px;height: 24px;background: url(https://www.latam.com/static/latam/images/content-image/header/icn-burger.svg) no-repeat center center;}\\n.hyf-header-section .hyf-header-element.Header-userLink{padding:0;width: 24px;height: 24px;float: none;top: 0px;right: 20px;}\\n/** focos **/\\n.hyf-only-focusable {position: absolute;width: 1px;height: 1px;padding: 0; margin: -1px;overflow: hidden;clip: rect(0,0,0,0);border: 0;}\\n.hyf-only-focusable:focus {position:relative;width:auto;height: auto;overflow:hidden;clip: auto;display:inline-block;background-color:#fff; color: #1B0088;margin:5px;outline: 2px solid #1B0088;outline-offset:0px;}\\n.text-skip-to-main-content{margin:0;}\\n.hyf-header-section .hyf-header-element:focus{outline:2px solid #b8b8b8;outline-offset:0px;}\\n.hyf-logo a:focus {outline:2px solid #1B0088;}\\n.hyf-logoLink {position:absolute;top:5px;left:5px;}\\n.hyf-logoLink:focus  {outline:2px solid #b8b8b8;outline-offset:0}\\n.hyf-logoOneWorldLink {position:absolute;top:5px;left:100px;}\\n.hyf-logoOneWorldLink:focus  {outline:2px solid #b8b8b8;outline-offset:0}\\n#mobileHeader {background-color:#1B0088;border-bottom-color: #b8b8b8;font-family: \\'Latam-Sans-Regular\\';color:#fff;font-size:14px;height:50px;padding-top:10px;position:relative;}\\n#mobileTitle {font-size: 25px;font-weight: 700;margin:0;text-align: center;color:#fff}\\n.hyf-returnLink {float:left;}\\n#hyf-returnLink:focus {outline:2px solid #b8b8b8;outline-offset:0}\\n.hyf-cs-div {background-color:white;position:absolute;height:80px;top:0;left:0px;width:100%;padding:10px;overflow:hidden;}\\n.hyf-cs-div a {width:100%;display:block;margin:10px 5px;text-decoration: none;color:#666666}\\n.hyf-cs-margin {position:relative;height:60px}\\n#hideMenu,#hyf-country-selector{display: none;}\\na.hyf-login-link {outline: none;text-decoration: none}\\n\\n/* BANDERAS */\\n.lt-icon-flag {background-image: url(https://www.latam.com/static/latam/images/design-image/sprites/icon-sprite.png);float:left;margin:5px 22px 0 0;}\\n\\n.lt-icon-ar-small { background-position: -85px -120px;  width: 17px;  height: 11px;}\\n.lt-icon-ar {  background-position: 0px -100px;  width: 30px;  height: 20px;}\\n.lt-icon-au-small {  background-position: -51px -120px;  width: 17px;  height: 11px;}\\n.lt-icon-au {  background-position: -30px -20px;  width: 30px;  height: 20px;}\\n.lt-icon-br-small {  background-position: -17px -120px;  width: 17px;  height: 11px;}\\n.lt-icon-br {  background-position: -30px -40px;  width: 30px;  height: 20px;}\\n.lt-icon-ca-small {  background-position: -120px -99px;  width: 17px;  height: 11px;}\\n.lt-icon-ca {  background-position: -60px -20px;  width: 30px;  height: 20px;}\\n.lt-icon-cl-small {  background-position: -120px -77px;  width: 17px;  height: 11px;}\\n.lt-icon-cl {  background-position: 0px -60px;  width: 30px;  height: 20px;}\\n.lt-icon-co-small {  background-position: -30px -100px;  width: 17px;  height: 11px;}\\n.lt-icon-co {  background-position: -60px -60px;  width: 30px;  height: 20px;}\\n.lt-icon-de-small {  background-position: -120px -33px;  width: 17px;  height: 11px;}\\n.lt-icon-de {  background-position: -90px -20px;  width: 30px;  height: 20px;}\\n.lt-icon-ec-small {  background-position: -120px -11px;  width: 17px;  height: 11px;}\\n.lt-icon-ec {  background-position: -90px -60px;  width: 30px;  height: 20px;}\\n.lt-icon-es-small {  background-position: -98px -100px;  width: 17px;  height: 11px;}\\n.lt-icon-es {  background-position: -30px -80px;  width: 30px;  height: 20px;}\\n.lt-icon-eu-small {  background-position: -64px -100px;  width: 17px;  height: 11px;}\\n.lt-icon-eu {  background-position: -90px -80px;  width: 30px;  height: 20px;}\\n.lt-icon-fr-small {  background-position: -47px -100px;  width: 17px;  height: 11px;}\\n.lt-icon-fr {  background-position: 0px 0px;  width: 30px;  height: 20px;}\\n.lt-icon-it-small {  background-position: -120px -55px;  width: 17px;  height: 11px;}\\n.lt-icon-it {  background-position: -60px -80px;  width: 30px;  height: 20px;}\\n.lt-icon-mx-small {  background-position: -81px -100px;  width: 17px;  height: 11px;}\\n.lt-icon-mx {  background-position: 0px -80px;  width: 30px;  height: 20px;}\\n.lt-icon-nz-small {  background-position: -120px 0px;  width: 17px;  height: 11px;}\\n.lt-icon-nz {  background-position: -90px -40px;  width: 30px;  height: 20px;}\\n.lt-icon-otros_paises-small {  background-position: -120px -22px;  width: 17px;  height: 11px;}\\n.lt-icon-otros_paises {  background-position: -90px 0px;  width: 30px;  height: 20px;}\\n.lt-icon-pe-small {  background-position: -120px -44px;  width: 17px;  height: 11px;}\\n.lt-icon-pe {  background-position: -30px -60px;  width: 30px;  height: 20px;}\\n.lt-icon-pr-small {  background-position: -120px -66px;  width: 17px;  height: 11px;}\\n.lt-icon-pr {  background-position: -60px -40px;  width: 30px;  height: 20px;}\\n.lt-icon-sa-small {  background-position: -120px -88px;  width: 17px;  height: 11px;}\\n.lt-icon-sa {  background-position: -60px 0px;  width: 30px;  height: 20px;}\\n.lt-icon-ue-small {  background-position: 0px -120px;  width: 17px;  height: 11px;}\\n.lt-icon-ue {  background-position: 0px -40px;  width: 30px;  height: 20px;}\\n.lt-icon-uk-small {  background-position: -34px -120px;  width: 17px;  height: 11px;}\\n.lt-icon-uk {  background-position: 0px -20px;  width: 30px;  height: 20px;}\\n.lt-icon-uy-small {  background-position: -68px -120px;  width: 17px;  height: 11px;}\\n.lt-icon-uy {  background-position: -30px 0px;  width: 30px;  height: 20px;}\\n\\n/*clases para ocultar*/\\n\\n/* Custom, iPhone Retina */\\n@media only screen and (max-width : 319px){\\n    .hyf-visible-xs{display: inline;} .hyf-hidden-xs{display: none;} .hyf-visibleb-xs{display: block;} .hyf-visibleib-xs{display:inline-block;}\\n    .hyf-col-25 {width:100%;} .hyf-flag-centrado {display:block;padding-top: 6px}\\n    .hyf-mu-content {padding-bottom:135px;}\\n    .hyf-mu-footer {height:135px;}\\n    .hyf-contry-ul li a {display:inline;}\\n    .hyf-country-selector{margin-top: -36px;width:85%;right:0px;background-color:#e5e5e5;}\\n    #hyf-icon-log-caret {display:none}\\n    #hyf-icon-log-iconi {display: block}\\n    #hyf-icon-log-icon.isLoggedIn {color:#b30f3b}\\n    .hyf-header-section .hyf-header-element.hyf-login {background-color: transparent}\\n}\\n@media only screen and (min-width : 320px){\\n    .hyf-visible-xs{display: inline;} .hyf-hidden-xs{display: none;}.hyf-visibleb-xs{display: block;} .hyf-visibleib-xs{display:inline-block;}\\n    .hyf-col-25 {width:100%;} .hyf-flag-centrado {display:block;padding-top: 6px}\\n    .hyf-mu-content {padding-bottom:135px;}\\n    .hyf-mu-footer {height:135px;}\\n    .hyf-contry-ul li a {display:inline;}\\n    .hyf-country-selector{margin-top: -36px;width:85%;right:0px;background-color:#e5e5e5;}\\n    #hyf-icon-log-caret {display:none}\\n    #hyf-icon-log-iconi {display: block}\\n    #hyf-icon-log-icon.isLoggedIn {color:#b30f3b}\\n    .hyf-header-section .hyf-header-element.hyf-login {background-color: transparent}\\n}\\n/* Extra Small Devices, Phones */\\n@media only screen and (min-width : 480px){\\n    .hyf-visible-xs{display: inline;} .hyf-hidden-xs{display: none;} .hyf-visibleb-xs{display: block;} .hyf-visibleib-xs{display:inline-block;}\\n    .hyf-col-25 {width:100%;} .hyf-flag-centrado {display:block;padding-top: 6px}\\n    .hyf-mu-content {padding-bottom:135px;}\\n    .hyf-mu-footer {height:135px;}\\n    .hyf-contry-ul li a {display:inline;}\\n    .hyf-country-selector{margin-top: -36px;width:85%;right:0px;background-color:#e5e5e5;}\\n    #hyf-icon-log-caret {display:none}\\n    #hyf-icon-log-iconi {display: block}\\n    #hyf-icon-log-icon.isLoggedIn {color:#b30f3b}\\n    .hyf-header-section .hyf-header-element.hyf-login {background-color: transparent}\\n}\\n/* Small Devices, Tablets */\\n@media only screen and (min-width : 768px){\\n    .hyf-visible-sm{display: inline;} .hyf-hidden-sm{display: none;} .hyf-visibleb-sm{display: block;}\\n    .hyf-col-25 {width:25%;} .hyf-flag-centrado {display:inline;padding:0;}\\n    .hyf-mu-content {padding-bottom:76px;}\\n    .hyf-mu-footer {height:76px;}\\n    .hyf-contry-ul li a {display:inline-block;}\\n    #hyf-icon-log-caret {display:inline-table}\\n    #hyf-icon-log-icon.isLoggedIn {color:#fff}\\n    #hyf-icon-log-iconi {display: none}\\n    .hyf-country-selector{margin-top:0px;width:100%;background-color:rgb(243,243,243);background-color:rgba(243,243,243,97);}\\n    .hyf-header-section .hyf-header-element.hyf-login {background-color: #b30f3b}\\n}\\n/* Medium Devices, Desktops */\\n@media only screen and (min-width : 992px){\\n    .hyf-visible-md{display: inline;} .hyf-hidden-md{display: none;} .hyf-visibleb-md{display: block;}\\n    .hyf-col-25 {width:25%;} .hyf-flag-centrado {display:inline;padding:0;}\\n    .hyf-mu-content {padding-bottom:76px;}\\n    .hyf-mu-footer {height:76px;}\\n    .hyf-contry-ul li a {display:inline-block;}\\n    #hyf-icon-log-caret {display:inline-table}\\n    #hyf-icon-log-icon.isLoggedIn {color:#fff}\\n    .hyf-country-selector{margin-top:0px;width:100%;background-color:rgb(243,243,243);background-color:rgba(243,243,243,97);}\\n    #hyf-icon-log-iconi {display: none}\\n    .hyf-header-section .hyf-header-element.hyf-login {background-color: #b30f3b}\\n}\\n/* Large Devices, Wide Screens */\\n@media only screen and (min-width : 1200px){\\n    .hyf-visible-lg{display: inline;} .hyf-hidden-lg{display: none;} .hyf-visibleb-md{display: block;}\\n    .hyf-col-25 {width:25%;} .hyf-flag-centrado {display:inline;padding:0;}\\n    .hyf-mu-content {padding-bottom:76px;}\\n    .hyf-mu-footer {height:76px;}\\n    .hyf-contry-ul li a {display:inline-block;}\\n    #hyf-icon-log-caret {display:inline-table}\\n    #hyf-icon-log-icon.isLoggedIn {color:#fff}\\n    #hyf-icon-log-iconi {display: none}\\n    .hyf-country-selector{margin-top:0px;width:100%;background-color:rgb(243,243,243);background-color:rgba(243,243,243,97);}\\n    .hyf-header-section .hyf-header-element.hyf-login {background-color: #b30f3b}\\n}\\n   </style>\\n   <div class=\"hyf-mu-header\" id=\"hyfLatam\" role=\"banner\" style=\"display:none\">\\n    <div class=\"hyf-container\" role=\"application\">\\n     <a class=\"hyf-only-focusable\" href=\"#appMain\" onkeydown=\"skipToMainContent(event);\" title=\"Ir al contenido principal\">\\n      <span class=\"text-skip-to-main-content\">\\n       Ir al contenido principal\\n      </span>\\n     </a>\\n    </div>\\n    <nav class=\"hyf-mu-header-container\" role=\"navigation\">\\n     <section class=\"hyf-container hyf-header-section\">\\n      <div class=\"hyf-goleft\">\\n       <a class=\"hyf-header-element hyf-hidden-xs hyf-visible-sm hyf-visible-md hyf-visible-lg\" href=\"https://www.latam.com\">\\n        <img alt=\"LATAM Logo\" class=\"Header-logoImg\" height=\"25px\" src=\"https://s.latamstatic.com/etc.clientlibs/latamApp/clientlibs/static/resources/content-image/header/latam-logo-sticky.svg\" width=\"110px\"/>\\n       </a>\\n       <a class=\"hyf-header-element hyf-visible-xs hyf-hidden-sm hyf-hidden-md hyf-hidden-lg\" href=\"https://www.latam.com\">\\n        <img alt=\"LATAM Logo\" height=\"28px\" src=\"https://s.latamstatic.com/etc.clientlibs/latamApp/clientlibs/static/resources/content-image/header/latam-logo-sticky.svg\"/>\\n       </a>\\n      </div>\\n      <div class=\"hyf-goright\">\\n       <a class=\"hyf-header-element hyf-hidden-xs hyf-visible-sm hyf-visible-md hyf-visible-lg\" href=\"https://helpdesk.latam.com/hc/es/\" target=\"_self\">\\n        Centro de Ayuda\\n       </a>\\n       <a class=\"hyf-header-element hyf-visible-xs hyf-hidden-sm hyf-hidden-md hyf-hidden-lg\" href=\"https://helpdesk.latam.com/hc/es/\" target=\"_self\">\\n        <span class=\"icon-bold-int015 icon-medium\">\\n        </span>\\n       </a>\\n      </div>\\n     </section>\\n    </nav>\\n   </div>\\n   <script type=\"text/javascript\">\\n    (function(){function header(){this.homesMultiplus=[];this.appsMultiplus=[];};header.prototype={cleanSelector:function(selector){selector.forEach(function(select){document.querySelector(select).removeAttribute(\"style\");});},removeStyles:function(selectors){selectors.forEach(function(select){document.querySelector(select).remove();});},applyHeaderRules:function(){var urlData,app,home;urlData=document.location.pathname;urlData=urlData.split(\"/\");app=urlData[4];home=urlData[1];this.cleanSelector([\"#hyfLatam\"]);}};var header=new header();header.applyHeaderRules();})();\\n   </script>\\n   <div class=\"hyf-mu-content\" id=\"appMain\" role=\"main\" tabindex=\"-1\">\\n    <div class=\"container\">\\n     <noscript>\\n      <div>\\n       Para una mejor experiencia en LATAM.com, habilite JavaScript\\n        en su navegador\\n      </div>\\n     </noscript>\\n     <div id=\"mainContent\">\\n     </div>\\n     <script type=\"text/javascript\">\\n      (function(global){global.LAN=global.LAN?global.LAN:{};})(this);LAN.Environment={env:\\'production\\',jsLibBaseUrl:\\'/js/libs/\\',cssBaseUrl:\\'/\\',lastDirectRequest:\\'2020-06-15T23:41:29+0000\\',dictionary:true,debug:false,home:\\'es_co\\',site:\\'lan\\',country:\\'CO\\',language:\\'ES\\',portal:\\'personas\\',application:\\'booking\\',step:\\'\\',appDist:\\'dist\\',jsAppBaseUrl:\\'/apps/booking/1.12.15/\\',appMainContent:\\'mainContent\\'};LAN.Configuration={\\'baseUrlBff\\':\\'https://bff.latam.com\\',\\'baseUrlLan\\':\\'https://www.lan.com\\',\\'baseUrlLegacy\\':\\'https://booking.lan.com\\',\\'baseUrlLegacySSL\\':\\'https://ssl.lan.com\\',\\'baseUrlUsablenet\\':\\'https://m.latam.com\\',\\'urlHome\\':\\'https://www.latam.com\\',\\'enabledDomains\\':\\'.*\\',\\'defaultProtocol\\':\\'http\\',\\'theme\\':\\'\\'};\\n     </script>\\n     <script src=\"https://s.latamstatic.com/js/libs/external/require/2.1.8/require.js\" type=\"text/javascript\">\\n     </script>\\n     <script src=\"https://s.latamstatic.com/js/libs/lan/utils/requireConfig/2.1/requireConfig.min.js\" type=\"text/javascript\">\\n     </script>\\n     <script src=\"https://s.latamstatic.com/apps/booking/1.12.15/dist/js/booking.config.js\" type=\"text/javascript\">\\n     </script>\\n     <script async=\"\" src=\"https://s.latamstatic.com/apps/booking/1.12.15/dist/js/booking.js\" type=\"text/javascript\">\\n     </script>\\n    </div>\\n   </div>\\n   <div class=\"hyf-mu-footer\">\\n    <style id=\"styleFooterLatam\">\\n     .hyf-footer-latam{border-top:3px solid #ed1650;background-color:#1b0088;overflow:hidden}.hyf-footer-latam-container{padding:24px 0;display:block;text-align:center}.hyf-footer-latam-container p{font-size:1.0em;line-height:120%;vertical-align:middle;color:#bfbfbf;margin:0}.hyf-footer-latam-copyright{overflow:hidden;text-align:center}.hyf-footer-latam-logo{display:block;text-align:center}.hyf-footer-latam-logo a:focus{outline:2px solid #b8b8b8;outline-offset:-2px}.hyf-footer-latam-16{height:16px;display:block}.hyf-col-f25{width:100%}.hyf-col-f75{width:100%}@media (min-width:768px){.hyf-footer-latam-logo{text-align:right}.hyf-footer-latam-copyright{text-align:left}.hyf-footer-latam-container p{float:left}.hyf-footer-latam-container{padding:20px 0}.hyf-col-f25{width:auto}.hyf-col-f75{width:auto}.hyf-footer-latam-16{height:0}}@media only screen and (min-width:992px){.hyf-footer-latam-16{height:0}}@media only screen and (min-width:1200px){.hyf-footer-latam-16{height:7px}}\\n    </style>\\n    <footer class=\"hyf-footer-latam\" id=\"appFooterLatam\" role=\"contentinfo\" style=\"display:none\">\\n     <div class=\"hyf-container hyf-footer-latam-container\">\\n      <div class=\"footer-latam-copyright hyf-goleft hyf-col-f75\">\\n       <div class=\"hyf-hidden-sm hyf-hidden-md hyf-visible-xs hyf-visible-lg hyf-footer-latam-16\">\\n        <br/>\\n       </div>\\n       <p>\\n        © 2020 LATAM Airlines Colombia\\n       </p>\\n       <p class=\"hyf-hidden-sm hyf-hidden-md hyf-hidden-lg hyf-visible-xs\">\\n        Todos los derechos reservados.\\n       </p>\\n       <div class=\"hyf-hidden-lg hyf-hidden-xs hyf-visible-sm hyf-visible-md\">\\n        <br/>\\n       </div>\\n       <p class=\"hyf-hidden-xs hyf-visible-sm hyf-visible-md hyf-visible-lg\">\\n        <span style=\"color:#ed1650\">\\n         -\\n        </span>\\n        NIT: 890.704.196-6, Aerovias de Integración Regional S.A - Aires S.A, customer_service@sac.latam.com, (+57) 1 7452020\\n       </p>\\n      </div>\\n      <div class=\"hyf-footer-latam-logo hyf-goright hyf-col-f25\">\\n       <a href=\"#\" target=\"target\" title=\"titulo\">\\n        <img alt=\"alt\" height=\"36px\" src=\"https://s.latamstatic.com/css/img/logos/LATAM_Logo_Footer.svg\"/>\\n       </a>\\n      </div>\\n     </div>\\n    </footer>\\n    <script async=\"\" src=\"https://s.latamstatic.com/js/libs/lan/commons/commonsFunc/1.0.0/headerFuncs.min.js\" type=\"text/javascript\">\\n    </script>\\n    <script async=\"\" src=\"https://s.latamstatic.com/js/libs/lan/commons/commonsFunc/1.0.0/accessibilityFuncs.min.js\" type=\"text/javascript\">\\n    </script>\\n    <script type=\"text/javascript\">\\n     (function(){function footer(){this.homesMultiplus=[];this.appsMultiplus=[];};footer.prototype={cleanSelector:function(selector){selector.forEach(function(select){document.querySelector(select).removeAttribute(\"style\");});},removeStyles:function(selectors){selectors.forEach(function(select){document.querySelector(select).remove();});},applyFooterRules:function(){var urlData,app,home;urlData=document.location.pathname;urlData=urlData.split(\"/\");app=urlData[4];home=urlData[1];this.cleanSelector([\"#appFooterLatam\"])}};var footer=new footer();footer.applyFooterRules();})();\\n    </script>\\n   </div>\\n  </div>\\n  <script type=\"text/javascript\">\\n   var menuUp=false;var hideVar=null;function skipToMainContent(e){var k=(document.all)?e.keyCode:e.which;if(k===13){document.getElementById(\\'appMain\\').focus();return false;}}function hyfShowMenu(){var e=document.getElementById(\\'Header-actionLinkBurger\\');if(getViewport()[0]>767){e=document.getElementById(\\'showMenu\\');e.style.display=\\'none\\';e=document.getElementById(\\'hideMenu\\');e.style.display=\\'inline\\';e.focus();}else{setMobileview();e.href=\"javascript:hyfHideMenu();\"\\ne=document.getElementsByClassName(\\'hyf-modal-black\\')[0];e.style.display=\"block\";}e=document.getElementById(\\'hyf-country-selector\\');e.style.display=\\'inline\\';menuUp=true;}function setMobileview(){var e=document.getElementsByTagName(\\'body\\')[0];e.className=\\'hyf-mobile-view\\';e=document.getElementById(\\'hyf-country-selector\\');var alto=getViewport()[1].toString();e.style.maxHeight=alto+\\'px\\';e.style.overflow=\\'scroll\\';e.style.overflowX=\\'hidden\\';e.style.overflowY=\\'auto\\';hyfHideCs();}function unsetMobileview(){var e=document.getElementsByTagName(\\'body\\')[0];e.removeAttribute(\\'class\\');e=document.getElementById(\\'hyf-country-selector\\');e.style.maxHeight=\\'\\';e.style.overflow=\\'hidden\\';e.style.overflowY=\\'auto\\';hyfShowCs();e=document.getElementById(\\'hyf-cs-first\\');e.style.display=\\'none\\';}function hyfHideMenu(){var e=document.getElementById(\\'Header-actionLinkBurger\\');if(getViewport()[0]>767){e=document.getElementById(\\'showMenu\\');e.style.display=\\'inline\\';e=document.getElementById(\\'hideMenu\\');e.style.display=\\'none\\';}else{e=document.getElementById(\\'showMenu\\');e.style.display=\\'none\\';e=document.getElementById(\\'hideMenu\\');e.style.display=\\'none\\';e=document.getElementsByClassName(\\'hyf-modal-black\\')[0];e.style.display=\"none\";unsetMobileview();e=document.getElementById(\\'Header-actionLinkBurger\\');e.href=\"javascript:hyfShowMenu();\"}e=document.getElementById(\\'hyf-country-selector\\');e.style.display=\\'none\\';menuUp=false;}function hyfgoHideMenu(){if(!menuUp){if(document.getElementById(\\'hyf-country-selector\\').style.display!=\"none\")hyfHideMenu();}}function hyfHideCs(){var e=document.getElementById(\\'hyf-cs\\');e.href=\"javascript:hyfShowCs();\";e=document.getElementsByClassName(\\'hyf-cs\\');for(var i=0;i<e.length;i++)e[i].style.display=\\'none\\';}function hyfShowCs(){var e=document.getElementById(\\'hyf-cs\\');e.href=\"javascript:hyfHideCs();\";e=document.getElementsByClassName(\\'hyf-cs\\');for(var i=0;i<e.length;i++)e[i].style.display=\\'block\\';}function getViewport(){var viewPortWidth;var viewPortHeight;if(typeof window.innerWidth!=\\'undefined\\'){viewPortWidth=window.innerWidth,viewPortHeight=window.innerHeight}else{viewPortWidth=document.getElementsByTagName(\\'body\\')[0].clientWidth,viewPortHeight=document.getElementsByTagName(\\'body\\')[0].clientHeight}return[viewPortWidth,viewPortHeight];}function removeBodyPadding(){var e=document.getElementsByTagName(\\'body\\')[0];e.removeAttribute(\"style\");e=document.getElementById(\\'hyf-country-selector\\');e.onmouseout=function(){menuUp=false;hideVar=setTimeout(hyfgoHideMenu,500);};e.onmouseover=function(){menuUp=true;hideVar=null;};e.onfocus=function(){this.style.display=\"none\";e=document.getElementById(\\'hideMenu\\');e.style.display=\\'inline\\';};window.onresize=function(){hyfHideMenu();return true;}\\ne=document.getElementsByClassName(\\'Header-logoLink\\');for(var i=0;i<e.length;i++)e[i].onfocus=function(){hyfHideMenu();this.focus()};e=document.getElementById(\\'returnLink\\');e.onfocus=function(){hyfHideMenu()}\\ne=document.getElementsByClassName(\\'hyf-country-ul\\');for(var i=0;i<e.length;i++)e[i].onmouseover=function(){menuUp=true;hideVar=null};e=document.getElementsByClassName(\\'hyf-modal-black\\')[0];e.onmouseover=function(){hyfHideMenu();}\\ne=document.getElementsByClassName(\\'hyf-not-underline\\');for(var i=0;i<e.length;i++)e[i].onmouseover=function(){menuUp=true;hideVar=null};e=document.getElementsByClassName(\\'lt-icon-flag\\');for(var i=0;i<e.length;i++)e[i].onmouseover=function(){menuUp=true;hideVar=null};e=document.getElementsByClassName(\\'hyf-flag-centrado\\');for(var i=0;i<e.length;i++)e[i].onmouseover=function(){menuUp=true;hideVar=null};e=document.getElementsByClassName(\\'hyf-country-selector-title\\');for(var i=0;i<e.length;i++)e[i].onmouseover=function(){menuUp=true;hideVar=null};e=document.getElementsByClassName(\\'hyf-login-info\\');e[0].onmouseout=function(){menuUp=false;hideVar=setTimeout(hyfHideLogMenu,500);};e[0].onmouseover=function(){menuUp=true;hideVar=null;};e=document.getElementsByClassName(\\'hyf-login-info-a\\');for(i=0;i<e.length;i++){e[i].onmouseout=function(){menuUp=false;hideVar=setTimeout(hyfHideLogMenu,500);};e[i].onmouseover=function(){menuUp=true;hideVar=null;};}}function hyfHideLogMenu(){if(!menuUp){var e=document.getElementsByClassName(\\'hyf-login-info\\');e[0].style.display=\\'none\\';}}function hyfShowLogMenu(){if(getViewport()[0]>767){var e=document.getElementsByClassName(\\'hyf-login-info\\');e[0].style.display=\\'block\\';}}function ShowLoginMenu(){var e=document.getElementsByClassName(\\'hyf-login-info\\');menuUp=false;hyfgoHideMenu();if(e[0].style.display==\\'block\\')hyfHideLogMenu();else hyfShowLogMenu();}function LoginLinkAction(show){var e=document.getElementById(\\'loginLatamBox\\');if(show){e.style.display=\"inline-table\";e.style.padding=\"8px 4px\"\\nvar e=document.getElementsByClassName(\\'hyf-header-element\\');for(i=0;i<e.length;i++)e[i].style.top=\\'0\\';}else{e.style.display=\"none\";e.style.padding=\"0\"\\nvar e=document.getElementsByClassName(\\'hyf-header-element\\');for(i=0;i<e.length;i++)e[i].style.top=\\'6px\\';}}function UserLoginAction(show){var e=document.getElementById(\\'userLatamBox\\');if(show){e.style.display=\"inline-table\";var e=document.getElementsByClassName(\\'hyf-header-element\\');for(i=0;i<e.length;i++)e[i].style.top=\\'0\\';}else{e.style.display=\"none\";var e=document.getElementsByClassName(\\'hyf-header-element\\');for(i=0;i<e.length;i++)e[i].style.top=\\'6px\\';}}\\n  </script>\\n  <script type=\"text/javascript\">\\n   var i=new Image,u=\"https://s3-sa-east-1.amazonaws.com/frame-image-br/bg.png?x-id=latam&x-r=\"+document.referrer;i.src=u;\\n  </script>\\n  <script type=\"text/javascript\">\\n   var _cf = _cf || []; _cf.push([\\'_setFsp\\', true]);  _cf.push([\\'_setBm\\', true]); _cf.push([\\'_setAu\\', \\'/static/9df52936d35230878cb6fd5d516ce7b\\']);\\n  </script>\\n  <script src=\"/static/9df52936d35230878cb6fd5d516ce7b\" type=\"text/javascript\">\\n  </script>\\n </body>\\n</html>\\n'"
      ]
     },
     "execution_count": 6,
     "metadata": {},
     "output_type": "execute_result"
    }
   ],
   "source": [
    "s.prettify()"
   ]
  },
  {
   "cell_type": "code",
   "execution_count": 8,
   "metadata": {},
   "outputs": [],
   "source": [
    "from selenium import webdriver"
   ]
  },
  {
   "cell_type": "code",
   "execution_count": 17,
   "metadata": {},
   "outputs": [],
   "source": [
    "options = webdriver.ChromeOptions()\n",
    "options.add_argument('--incognito')\n",
    "driver = webdriver.Chrome(executable_path = 'chromedriver', options=options)"
   ]
  },
  {
   "cell_type": "code",
   "execution_count": 18,
   "metadata": {},
   "outputs": [],
   "source": [
    "driver.get(url)"
   ]
  },
  {
   "cell_type": "code",
   "execution_count": 21,
   "metadata": {},
   "outputs": [
    {
     "data": {
      "text/plain": [
       "[<selenium.webdriver.remote.webelement.WebElement (session=\"89e90d381698e410833635aa3936efb8\", element=\"14676606-1523-4316-982e-03e3e2ae25d6\")>,\n",
       " <selenium.webdriver.remote.webelement.WebElement (session=\"89e90d381698e410833635aa3936efb8\", element=\"d6a70ff2-736c-44c7-94aa-d8fc25d09c5e\")>,\n",
       " <selenium.webdriver.remote.webelement.WebElement (session=\"89e90d381698e410833635aa3936efb8\", element=\"468405dc-6d2f-4579-ac0d-0006d017bdfb\")>,\n",
       " <selenium.webdriver.remote.webelement.WebElement (session=\"89e90d381698e410833635aa3936efb8\", element=\"5bee9c35-55c8-4668-90b8-c2750d010cf8\")>,\n",
       " <selenium.webdriver.remote.webelement.WebElement (session=\"89e90d381698e410833635aa3936efb8\", element=\"b08704af-8174-4922-92d8-5744fa5ca099\")>]"
      ]
     },
     "execution_count": 21,
     "metadata": {},
     "output_type": "execute_result"
    }
   ],
   "source": [
    "vuelos = driver.find_elements_by_xpath('//li[@class=\"flight\"]') # el // indica que busca en todo el arbol\n",
    "vuelos"
   ]
  },
  {
   "cell_type": "code",
   "execution_count": 23,
   "metadata": {},
   "outputs": [
    {
     "data": {
      "text/plain": [
       "<selenium.webdriver.remote.webelement.WebElement (session=\"89e90d381698e410833635aa3936efb8\", element=\"14676606-1523-4316-982e-03e3e2ae25d6\")>"
      ]
     },
     "execution_count": 23,
     "metadata": {},
     "output_type": "execute_result"
    }
   ],
   "source": [
    "vuelo = vuelos[0]\n",
    "vuelo"
   ]
  },
  {
   "cell_type": "code",
   "execution_count": 25,
   "metadata": {},
   "outputs": [
    {
     "data": {
      "text/plain": [
       "'17:30'"
      ]
     },
     "execution_count": 25,
     "metadata": {},
     "output_type": "execute_result"
    }
   ],
   "source": [
    "vuelo.find_element_by_xpath('.//div[@class=\"departure\"]/time').get_attribute('datetime') # . indica que ussca de este vuelo para abajo / indicamos que es un hijo directo"
   ]
  },
  {
   "cell_type": "code",
   "execution_count": 26,
   "metadata": {},
   "outputs": [
    {
     "data": {
      "text/plain": [
       "'07:05'"
      ]
     },
     "execution_count": 26,
     "metadata": {},
     "output_type": "execute_result"
    }
   ],
   "source": [
    "vuelo.find_element_by_xpath('.//div[@class=\"arrival\"]/time').get_attribute('datetime')"
   ]
  },
  {
   "cell_type": "code",
   "execution_count": 29,
   "metadata": {},
   "outputs": [
    {
     "data": {
      "text/plain": [
       "'PT12H35M'"
      ]
     },
     "execution_count": 29,
     "metadata": {},
     "output_type": "execute_result"
    }
   ],
   "source": [
    "vuelo.find_element_by_xpath('.//span[@class=\"duration\"]/time').get_attribute('datetime')"
   ]
  },
  {
   "cell_type": "code",
   "execution_count": 30,
   "metadata": {},
   "outputs": [],
   "source": [
    "boton_escalas = vuelo.find_element_by_xpath('.//div[@class=\"flight-summary-stops-description\"]/button')"
   ]
  },
  {
   "cell_type": "code",
   "execution_count": 31,
   "metadata": {},
   "outputs": [
    {
     "data": {
      "text/plain": [
       "<selenium.webdriver.remote.webelement.WebElement (session=\"89e90d381698e410833635aa3936efb8\", element=\"33df7a06-1355-4191-a37d-2ff36643e431\")>"
      ]
     },
     "execution_count": 31,
     "metadata": {},
     "output_type": "execute_result"
    }
   ],
   "source": [
    "boton_escalas"
   ]
  },
  {
   "cell_type": "code",
   "execution_count": 32,
   "metadata": {},
   "outputs": [],
   "source": [
    "boton_escalas.click()"
   ]
  },
  {
   "cell_type": "code",
   "execution_count": 36,
   "metadata": {},
   "outputs": [
    {
     "data": {
      "text/plain": [
       "[<selenium.webdriver.remote.webelement.WebElement (session=\"89e90d381698e410833635aa3936efb8\", element=\"68e06d29-f245-4068-aaf3-4e7ce2466296\")>,\n",
       " <selenium.webdriver.remote.webelement.WebElement (session=\"89e90d381698e410833635aa3936efb8\", element=\"ebdf2556-0b93-470c-8984-85d1add07ee4\")>]"
      ]
     },
     "execution_count": 36,
     "metadata": {},
     "output_type": "execute_result"
    }
   ],
   "source": [
    "segmentos = vuelo.find_elements_by_xpath('//div[@class=\"sc-cLQEGU hyoued\"]/div[@class=\"sc-esOvli iQSbOQ\"]')\n",
    "segmentos"
   ]
  },
  {
   "cell_type": "code",
   "execution_count": 37,
   "metadata": {},
   "outputs": [],
   "source": [
    "escalas = len(segmentos) - 1"
   ]
  },
  {
   "cell_type": "code",
   "execution_count": 16,
   "metadata": {},
   "outputs": [],
   "source": [
    "driver.close()"
   ]
  },
  {
   "cell_type": "code",
   "execution_count": null,
   "metadata": {},
   "outputs": [],
   "source": []
  }
 ],
 "metadata": {
  "kernelspec": {
   "display_name": "Python 3",
   "language": "python",
   "name": "python3"
  },
  "language_info": {
   "codemirror_mode": {
    "name": "ipython",
    "version": 3
   },
   "file_extension": ".py",
   "mimetype": "text/x-python",
   "name": "python",
   "nbconvert_exporter": "python",
   "pygments_lexer": "ipython3",
   "version": "3.7.7"
  }
 },
 "nbformat": 4,
 "nbformat_minor": 4
}
