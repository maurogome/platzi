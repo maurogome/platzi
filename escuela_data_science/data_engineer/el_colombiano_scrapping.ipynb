{
 "cells": [
  {
   "cell_type": "code",
   "execution_count": 10,
   "metadata": {},
   "outputs": [],
   "source": [
    "import requests\n",
    "import bs4\n",
    "\n",
    "response = requests.get('https://www.elcolombiano.com/')"
   ]
  },
  {
   "cell_type": "code",
   "execution_count": 2,
   "metadata": {},
   "outputs": [
    {
     "name": "stdout",
     "output_type": "stream",
     "text": [
      "200\n"
     ]
    }
   ],
   "source": [
    "print(response.status_code)"
   ]
  },
  {
   "cell_type": "code",
   "execution_count": 8,
   "metadata": {},
   "outputs": [
    {
     "name": "stdout",
     "output_type": "stream",
     "text": [
      "El Colombiano | noticias de MedellÃ­n, Antioquia, Colombia y el mundo.\n",
      "\n"
     ]
    }
   ],
   "source": [
    "soup = bs4.BeautifulSoup(response.text, 'html.parser')\n",
    "\n",
    "print(soup.title.text, end = '\\n\\n')"
   ]
  },
  {
   "cell_type": "code",
   "execution_count": 22,
   "metadata": {},
   "outputs": [
    {
     "name": "stdout",
     "output_type": "stream",
     "text": [
      "Noticias de Colombia e informaciÃ³n de MedellÃ­n, Antioquia y el mundo. PeriÃ³dico diario El Colombiano.\n"
     ]
    }
   ],
   "source": [
    "print(soup.select('meta[name=description]')[0]['content'])"
   ]
  },
  {
   "cell_type": "code",
   "execution_count": 38,
   "metadata": {},
   "outputs": [
    {
     "name": "stdout",
     "output_type": "stream",
     "text": [
      "<a href=\"/antioquia/posesion-del-gobernador-encargado-de-antioquia-luis-fernando-suarez-DB13127411\"> <div frame=\"Principal_Portada\" style=\"position: relative; width: 100%; padding-top: 62.83%; background-color: #000000\"> <img alt=\"SuÃ¡rez es odontÃ³logo y ejerce cargos pÃºblicos desde 2011. FOTO: EDWIN BUSTAMANTE\" height=\"289\" itercontenttypein=\"TeaserImage\" itercontenttypeout=\"Image\" iterimgid=\"35839526\" src=\"//www.elcolombiano.com/documents/10157/0/460x306/0c8/460d289/none/11101/BUDT/image_content_35839526_20200606142559.jpg\" srcset=\"//www.elcolombiano.com/documents/10157/0/460x306/0c8/460d289/none/11101/BUDT/image_content_35839526_20200606142559.jpg 460w\" style=\"bottom: 0; left: 0; top: 0; right: 0;\n",
      "height: auto; width: auto;\n",
      "max-height: 100%; max-width: 100%;\n",
      "display: block; position: absolute; margin: auto;\" title=\"SuÃ¡rez es odontÃ³logo y ejerce cargos pÃºblicos desde 2011. FOTO: EDWIN BUSTAMANTE\" width=\"460\"/> </div> </a>\n"
     ]
    }
   ],
   "source": [
    "print(soup.select('.noticia a')[0])\n"
   ]
  },
  {
   "cell_type": "code",
   "execution_count": null,
   "metadata": {},
   "outputs": [],
   "source": []
  }
 ],
 "metadata": {
  "kernelspec": {
   "display_name": "Python 3",
   "language": "python",
   "name": "python3"
  },
  "language_info": {
   "codemirror_mode": {
    "name": "ipython",
    "version": 3
   },
   "file_extension": ".py",
   "mimetype": "text/x-python",
   "name": "python",
   "nbconvert_exporter": "python",
   "pygments_lexer": "ipython3",
   "version": "3.7.7"
  }
 },
 "nbformat": 4,
 "nbformat_minor": 4
}
